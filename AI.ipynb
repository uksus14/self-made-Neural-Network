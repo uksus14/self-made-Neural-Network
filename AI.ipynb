{
 "cells": [
  {
   "cell_type": "code",
   "execution_count": 1,
   "metadata": {},
   "outputs": [],
   "source": [
    "from Network import Network\n",
    "import numpy as np"
   ]
  },
  {
   "cell_type": "code",
   "execution_count": 2,
   "metadata": {},
   "outputs": [],
   "source": [
    "AI: Network = Network.new([4, 2, 2], (slice(-5,5), slice(-5,5)))"
   ]
  },
  {
   "cell_type": "code",
   "execution_count": 3,
   "metadata": {},
   "outputs": [
    {
     "name": "stdout",
     "output_type": "stream",
     "text": [
      "[[0.00423833 0.99861195]]\n",
      "1.9887671307557597\n"
     ]
    },
    {
     "ename": "ValueError",
     "evalue": "shapes (2,2) and (4,2) not aligned: 2 (dim 1) != 4 (dim 0)",
     "output_type": "error",
     "traceback": [
      "\u001b[1;31m---------------------------------------------------------------------------\u001b[0m",
      "\u001b[1;31mValueError\u001b[0m                                Traceback (most recent call last)",
      "Cell \u001b[1;32mIn [3], line 8\u001b[0m\n\u001b[0;32m      6\u001b[0m \u001b[39mfor\u001b[39;00m i \u001b[39min\u001b[39;00m \u001b[39mrange\u001b[39m(\u001b[39m10\u001b[39m):\n\u001b[0;32m      7\u001b[0m     \u001b[39mfor\u001b[39;00m i \u001b[39min\u001b[39;00m \u001b[39mrange\u001b[39m(\u001b[39m100\u001b[39m):\n\u001b[1;32m----> 8\u001b[0m         AI\u001b[39m.\u001b[39;49mdescent()\n\u001b[0;32m      9\u001b[0m     \u001b[39mprint\u001b[39m(AI())\n\u001b[0;32m     10\u001b[0m     cur \u001b[39m=\u001b[39m AI\u001b[39m.\u001b[39mcost()\n",
      "File \u001b[1;32mc:\\Users\\akylo\\Desktop\\inokentiy\\vs_study\\AI2\\initial\\self-made-Neural-Network\\Network.py:90\u001b[0m, in \u001b[0;36mNetwork.descent\u001b[1;34m(self)\u001b[0m\n\u001b[0;32m     88\u001b[0m \u001b[39mif\u001b[39;00m \u001b[39many\u001b[39m(\u001b[39mmap\u001b[39m(has_nan, \u001b[39mself\u001b[39m\u001b[39m.\u001b[39mderivs)):\n\u001b[0;32m     89\u001b[0m     \u001b[39mself\u001b[39m()\n\u001b[1;32m---> 90\u001b[0m dJ_db, dJ_dw \u001b[39m=\u001b[39m \u001b[39mself\u001b[39;49m\u001b[39m.\u001b[39;49mgradient()\n\u001b[0;32m     91\u001b[0m layer: Layer\n\u001b[0;32m     92\u001b[0m \u001b[39mfor\u001b[39;00m layer, dJ_dbi, dJ_dwi \u001b[39min\u001b[39;00m \u001b[39mzip\u001b[39m(\u001b[39mself\u001b[39m[\u001b[39m1\u001b[39m:], dJ_db, dJ_dw):\n",
      "File \u001b[1;32mc:\\Users\\akylo\\Desktop\\inokentiy\\vs_study\\AI2\\initial\\self-made-Neural-Network\\Network.py:79\u001b[0m, in \u001b[0;36mNetwork.gradient\u001b[1;34m(self)\u001b[0m\n\u001b[0;32m     77\u001b[0m top_deriv \u001b[39m=\u001b[39m mul(dJ_dlast, overall\u001b[39m.\u001b[39msum(\u001b[39m0\u001b[39m))\n\u001b[0;32m     78\u001b[0m bias\u001b[39m.\u001b[39mappend(mul(tmp_deriv, top_deriv)\u001b[39m.\u001b[39mreshape((\u001b[39m-\u001b[39m\u001b[39m1\u001b[39m,)))\n\u001b[1;32m---> 79\u001b[0m weight\u001b[39m.\u001b[39mappend(np\u001b[39m.\u001b[39;49mdot(diag(top_deriv), np\u001b[39m.\u001b[39;49mdot(\u001b[39mself\u001b[39;49m[i\u001b[39m-\u001b[39;49m\u001b[39m1\u001b[39;49m]()\u001b[39m.\u001b[39;49mT, tmp_deriv)))\n\u001b[0;32m     80\u001b[0m \u001b[39mtry\u001b[39;00m:\n\u001b[0;32m     81\u001b[0m     deriv \u001b[39m=\u001b[39m \u001b[39mself\u001b[39m\u001b[39m.\u001b[39mderivs[i\u001b[39m-\u001b[39m\u001b[39m2\u001b[39m]\n",
      "File \u001b[1;32m<__array_function__ internals>:180\u001b[0m, in \u001b[0;36mdot\u001b[1;34m(*args, **kwargs)\u001b[0m\n",
      "\u001b[1;31mValueError\u001b[0m: shapes (2,2) and (4,2) not aligned: 2 (dim 1) != 4 (dim 0)"
     ]
    }
   ],
   "source": [
    "AI.set_input(np.zeros((1, 4)).reshape(-1))\n",
    "AI.set_answer(0)\n",
    "print(AI())\n",
    "last = AI.cost()\n",
    "print(last)\n",
    "for i in range(10):\n",
    "    for i in range(100):\n",
    "        AI.descent()\n",
    "    print(AI())\n",
    "    cur = AI.cost()\n",
    "    print(last-cur)\n",
    "    last = cur"
   ]
  },
  {
   "cell_type": "code",
   "execution_count": null,
   "metadata": {},
   "outputs": [],
   "source": []
  }
 ],
 "metadata": {
  "kernelspec": {
   "display_name": "Python 3",
   "language": "python",
   "name": "python3"
  },
  "language_info": {
   "codemirror_mode": {
    "name": "ipython",
    "version": 3
   },
   "file_extension": ".py",
   "mimetype": "text/x-python",
   "name": "python",
   "nbconvert_exporter": "python",
   "pygments_lexer": "ipython3",
   "version": "3.11.0"
  },
  "orig_nbformat": 4,
  "vscode": {
   "interpreter": {
    "hash": "0cb1f4c61e00a4630e095d7db81d372b37b525937944a6ef204cd75fca061c20"
   }
  }
 },
 "nbformat": 4,
 "nbformat_minor": 2
}
